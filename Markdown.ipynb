{
 "cells": [
  {
   "cell_type": "markdown",
   "id": "0b32574e-db31-45f6-bdba-b96a845f7ee9",
   "metadata": {},
   "source": [
    "# Projecto Colaborativo"
   ]
  },
  {
   "cell_type": "markdown",
   "id": "a41ebbaf-1b45-4cee-aa18-40ab865f7e13",
   "metadata": {},
   "source": [
    "| i | x | f(x) |\n",
    "|---|---|---------|\n",
    "| 0 | -1 | 0.3678 |\n",
    "| $\\color{red}{\\text{1}}$ | $\\color{red}{\\text{-0.5}}$ | $\\color{red}{\\text{0.7788}}$ |\n",
    "| $\\color{blue}{\\text{2}}$ | $\\color{blue}{\\text{0}}$ | $\\color{blue}{\\text{1}}$ |\n",
    "| $\\color{red}{\\text{3}}$ | $\\color{red}{\\text{0.5}}$ | $\\color{red}{\\text{0.7788}}$ |\n",
    "| 4 | 1 | 0.3678 |\n",
    "### Cuadro 1: Tabla de valores de f(x)"
   ]
  },
  {
   "cell_type": "markdown",
   "id": "443f2e0d-61b9-436f-8fda-91533904ffac",
   "metadata": {},
   "source": [
    "$$\n",
    "  \\int_{-1}^1e^{-x^2}\\,dx ≈ \\frac{0.5}{3} [f({-1}) + f({1}) + 4(\\textcolor{red}{f({-0.5}) + f({0.5})}) + 2\\textcolor{blue}{f({0})}]\n",
    "$$"
   ]
  },
  {
   "cell_type": "markdown",
   "id": "6e64ebac-0699-46b6-969e-94db93eaccd7",
   "metadata": {},
   "source": [
    "$$\n",
    "  ≈\\frac{0.5}{3} [0.3678 + 0.3678 + 4(\\textcolor{red}{0.7788 + 0.7788}) + 5 · \\textcolor{blue}{1}] ≈ 1.4943\n",
    "$$\n",
    "    A modo de verificación, se calculará por software, el valor del área para n = 100, un valor mucho más elevado al que se utilizó anteriormente. Si lo calculado es correcto, se esperaría que sea próximo al valor presentado a continuación para ser una buena aproximación."
   ]
  },
  {
   "cell_type": "markdown",
   "id": "c0bebeb8-634d-4986-8a4f-23396b96174d",
   "metadata": {},
   "source": [
    "$$\n",
    "  \\int_{-1}^1 e^{-x^2},dx ≈ 1.4963\n",
    "$$\n",
    "##### Figura 1."
   ]
  },
  {
   "cell_type": "markdown",
   "id": "d2dd3ec4-fc42-4f22-b128-cacfc8c21ff7",
   "metadata": {},
   "source": [
    "<font color='red'>f({-0.5}) + f({0.5})</font>"
   ]
  },
  {
   "cell_type": "code",
   "execution_count": null,
   "id": "cc92852b-49d7-49c9-abbf-9624f5f45823",
   "metadata": {},
   "outputs": [],
   "source": [
    "$$\n",
    "  \\int_{-1}^1e^{-x^2}\\,dx ≈ \\frac{0.5}{3} [f({-1}) + f({1}) + 4(f({-0.5}) + f({0.5})) + 2f({0})]\n",
    "$$"
   ]
  },
  {
   "cell_type": "code",
   "execution_count": null,
   "id": "23629de7-f0b6-4c56-ab28-4f7ebcbd8824",
   "metadata": {},
   "outputs": [],
   "source": []
  }
 ],
 "metadata": {
  "kernelspec": {
   "display_name": "Python 3 (ipykernel)",
   "language": "python",
   "name": "python3"
  },
  "language_info": {
   "codemirror_mode": {
    "name": "ipython",
    "version": 3
   },
   "file_extension": ".py",
   "mimetype": "text/x-python",
   "name": "python",
   "nbconvert_exporter": "python",
   "pygments_lexer": "ipython3",
   "version": "3.11.4"
  }
 },
 "nbformat": 4,
 "nbformat_minor": 5
}
