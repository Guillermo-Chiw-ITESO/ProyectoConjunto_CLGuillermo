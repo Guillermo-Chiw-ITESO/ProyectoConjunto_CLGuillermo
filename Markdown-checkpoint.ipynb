{
 "cells": [
  {
   "cell_type": "markdown",
   "id": "0b32574e-db31-45f6-bdba-b96a845f7ee9",
   "metadata": {},
   "source": [
    "# Projecto Colaborativo"
   ]
  },
  {
   "cell_type": "markdown",
   "id": "7e3d2bee-1127-4708-b71e-388b7ec431e7",
   "metadata": {},
   "source": [
    "## Espectativas del curso - Guillermo: \n",
    "La simulación matemática es excelente para poder correr simulaciones en distintas áreas de aplicación para poder correr situaciones posibles cambiando variables con el fin de obtener un resultado próximo al real sin tener que probarlo múltiples veces, ahorrando tiempo y costos. En una clase anterior (Análisis de Datos) pude realizar como proyecto una simulación de corrridas de crecimiento de una granja bacteriana, y ver los compuestos resultantes (Entre CO2, biomasa, etanol, entre otros) según los parámetros. En ese proyecto descubrí el potencial de la simulación previa al mundo real. En esta clase espero poder ampliar el conocimiento para el desarrollo de simulaciones y encontrar nuevas aplicaciones.\n",
    "## Espectativas del curso - Ramón: \n"
   ]
  },
  {
   "cell_type": "markdown",
   "id": "a41ebbaf-1b45-4cee-aa18-40ab865f7e13",
   "metadata": {},
   "source": [
    "| i | x | f(x) |\n",
    "|---|---|---------|\n",
    "| 0 | -1 | 0.3678 |\n",
    "| $\\color{red}{\\text{1}}$ | $\\color{red}{\\text{-0.5}}$ | $\\color{red}{\\text{0.7788}}$ |\n",
    "| $\\color{blue}{\\text{2}}$ | $\\color{blue}{\\text{0}}$ | $\\color{blue}{\\text{1}}$ |\n",
    "| $\\color{red}{\\text{3}}$ | $\\color{red}{\\text{0.5}}$ | $\\color{red}{\\text{0.7788}}$ |\n",
    "| 4 | 1 | 0.3678 |\n",
    "### Cuadro 1: Tabla de valores de f(x)"
   ]
  },
  {
   "cell_type": "markdown",
   "id": "443f2e0d-61b9-436f-8fda-91533904ffac",
   "metadata": {},
   "source": [
    "$$\n",
    "  \\int_{-1}^1e^{-x^2}\\,dx ≈ \\frac{0.5}{3} [f({-1}) + f({1}) + 4(\\textcolor{red}{f({-0.5}) + f({0.5})}) + 2\\textcolor{blue}{f({0})}]\n",
    "$$"
   ]
  },
  {
   "cell_type": "markdown",
   "id": "6e64ebac-0699-46b6-969e-94db93eaccd7",
   "metadata": {},
   "source": [
    "$$\n",
    "  ≈\\frac{0.5}{3} [0.3678 + 0.3678 + 4(\\textcolor{red}{0.7788 + 0.7788}) + 5 · \\textcolor{blue}{1}] ≈ 1.4943\n",
    "$$\n",
    "    A modo de verificación, se calculará por software, el valor del área para n = 100, un valor mucho más elevado al que se utilizó anteriormente. Si lo calculado es correcto, se esperaría que sea próximo al valor presentado a continuación para ser una buena aproximación."
   ]
  },
  {
   "cell_type": "markdown",
   "id": "c0bebeb8-634d-4986-8a4f-23396b96174d",
   "metadata": {},
   "source": [
    "$$\n",
    "  \\int_{-1}^1 e^{-x^2},dx ≈ 1.4963\n",
    "$$\n",
    "##### Figura 1."
   ]
  },
  {
   "cell_type": "markdown",
   "id": "d6df8a23-1f40-479f-92fe-27c271defe1a",
   "metadata": {},
   "source": []
  },
  {
   "cell_type": "markdown",
   "id": "5dc2109c-7d85-43fe-9010-4892beb7ff88",
   "metadata": {},
   "source": []
  },
  {
   "cell_type": "markdown",
   "id": "0aee9048-a092-4882-a742-5e716ff22715",
   "metadata": {},
   "source": []
  },
  {
   "cell_type": "markdown",
   "id": "bdbc2989-651b-4ad2-ad9d-5e3e8ffad9ca",
   "metadata": {},
   "source": [
    "# Serie de fibonacci"
   ]
  },
  {
   "cell_type": "code",
   "execution_count": 14,
   "id": "3242f459-3327-4a0e-ba1e-b932fb194030",
   "metadata": {},
   "outputs": [
    {
     "name": "stdout",
     "output_type": "stream",
     "text": [
      "0\n",
      "1\n",
      "1\n",
      "2\n",
      "3\n",
      "5\n",
      "8\n",
      "13\n",
      "21\n",
      "34\n",
      "55\n",
      "89\n",
      "144\n",
      "233\n",
      "377\n",
      "610\n",
      "987\n",
      "1597\n",
      "2584\n",
      "4181\n",
      "6765\n",
      "10946\n",
      "17711\n",
      "28657\n",
      "46368\n",
      "75025\n",
      "121393\n",
      "196418\n",
      "317811\n",
      "514229\n",
      "832040\n",
      "1346269\n",
      "2178309\n",
      "3524578\n",
      "5702887\n",
      "9227465\n",
      "14930352\n",
      "24157817\n",
      "39088169\n",
      "63245986\n",
      "102334155\n",
      "165580141\n",
      "267914296\n",
      "433494437\n",
      "701408733\n",
      "1134903170\n",
      "1836311903\n",
      "2971215073\n",
      "4807526976\n",
      "7778742049\n",
      "12586269025\n",
      "20365011074\n",
      "32951280099\n",
      "53316291173\n",
      "86267571272\n",
      "139583862445\n",
      "225851433717\n",
      "365435296162\n",
      "591286729879\n",
      "956722026041\n",
      "1548008755920\n",
      "2504730781961\n",
      "4052739537881\n",
      "6557470319842\n",
      "10610209857723\n",
      "17167680177565\n",
      "27777890035288\n",
      "44945570212853\n",
      "72723460248141\n",
      "117669030460994\n",
      "190392490709135\n",
      "308061521170129\n",
      "498454011879264\n",
      "806515533049393\n",
      "1304969544928657\n",
      "2111485077978050\n",
      "3416454622906707\n",
      "5527939700884757\n",
      "8944394323791464\n",
      "14472334024676221\n",
      "23416728348467685\n",
      "37889062373143906\n",
      "61305790721611591\n",
      "99194853094755497\n",
      "160500643816367088\n",
      "259695496911122585\n",
      "420196140727489673\n",
      "679891637638612258\n",
      "1100087778366101931\n",
      "1779979416004714189\n",
      "2880067194370816120\n",
      "4660046610375530309\n",
      "7540113804746346429\n",
      "12200160415121876738\n",
      "19740274219868223167\n",
      "31940434634990099905\n",
      "51680708854858323072\n",
      "83621143489848422977\n",
      "135301852344706746049\n",
      "218922995834555169026\n"
     ]
    }
   ],
   "source": [
    "def fibonacci(n):\n",
    "    fib_array = [0, 1]\n",
    "    while len(fib_array) < n:\n",
    "        sig_term = fib_array[-1] + fib_array[-2]\n",
    "        fib_array.append(sig_term)\n",
    "    return fib_array\n",
    "\n",
    "# Obtención de los primeros 100 términos de la serie de Fibonacci\n",
    "fibonacci_terminos = fibonacci(100)\n",
    "\n",
    "# Impresión de los términos\n",
    "for termino in fibonacci_terminos:\n",
    "    print(termino)"
   ]
  },
  {
   "cell_type": "code",
   "execution_count": null,
   "id": "525643dc-9568-4f8e-bbd3-445d01f0ec53",
   "metadata": {},
   "outputs": [],
   "source": []
  }
 ],
 "metadata": {
  "kernelspec": {
   "display_name": "Python 3 (ipykernel)",
   "language": "python",
   "name": "python3"
  },
  "language_info": {
   "codemirror_mode": {
    "name": "ipython",
    "version": 3
   },
   "file_extension": ".py",
   "mimetype": "text/x-python",
   "name": "python",
   "nbconvert_exporter": "python",
   "pygments_lexer": "ipython3",
   "version": "3.11.4"
  }
 },
 "nbformat": 4,
 "nbformat_minor": 5
}
