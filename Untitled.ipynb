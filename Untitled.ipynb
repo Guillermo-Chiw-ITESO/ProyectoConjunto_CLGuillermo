{
 "cells": [
  {
   "cell_type": "markdown",
   "id": "2386431e",
   "metadata": {},
   "source": [
    "# Este es el archivo creado desde el pc de RamonRojoVI\n",
    "\n",
    "\n",
    "\n"
   ]
  },
  {
   "cell_type": "code",
   "execution_count": null,
   "id": "7168eaee",
   "metadata": {},
   "outputs": [],
   "source": [
    "Mi nombre es Ramon Rojo Villalobos y mis expectativas para este curso son expandir mi conocimineto sobre programacion, aprender nuevas tecnicas, conocer nuevos programas y conseguir aprender a utilizar todas las herramientas del programa consiguiendo un buen promedio\n"
   ]
  },
  {
   "cell_type": "code",
   "execution_count": 12,
   "id": "91382494",
   "metadata": {
    "scrolled": true
   },
   "outputs": [
    {
     "name": "stdout",
     "output_type": "stream",
     "text": [
      "| i       | 1   | 2   | 3   | 4   | 5 | 6 | 7  |\n",
      "|---------|-----|-----|-----|-----|---|---|----|\n",
      "| E_i (V) | 12  | 10  | 24  | 12  | - | - | -  |\n",
      "| r_i (Ω) | 0.1 | 0.5 | 0.2 | 0.5 | - | - | -  |\n",
      "| R_i (Ω) | 25  | 40  | 16  | 20  | 9 | 4 | 20 |\n"
     ]
    }
   ],
   "source": [
    "print(\"| i       | 1   | 2   | 3   | 4   | 5 | 6 | 7  |\")\n",
    "print(\"|---------|-----|-----|-----|-----|---|---|----|\")\n",
    "print(\"| E_i (V) | 12  | 10  | 24  | 12  | - | - | -  |\")\n",
    "print(\"| r_i (Ω) | 0.1 | 0.5 | 0.2 | 0.5 | - | - | -  |\")\n",
    "print(\"| R_i (Ω) | 25  | 40  | 16  | 20  | 9 | 4 | 20 |\")"
   ]
  },
  {
   "cell_type": "code",
   "execution_count": 8,
   "id": "ef75c073",
   "metadata": {},
   "outputs": [
    {
     "name": "stdout",
     "output_type": "stream",
     "text": [
      "\u001b[94m|Kemna y Vorst (1990)|\u001b[0m\n",
      "muestran que las opciones asiáticas con media geométrica continua se \n",
      "pueden valuar con el mismo enfoque de las opciones plain vanilla;\n",
      "solo se deben cambiar los parámetros de volatilidad σ por σ_a y el \n",
      "costo de acarreo b por b_A. De acuerdo con Kemna y Vorst, las fórmulas para \n",
      "valuar una opción de compra y una opción de  venta son:\n",
      "\n",
      "c≈S_t e^(b_A-r)(T-t) ∅(d_1 )-Ke^(-r(T-t) )∅〖(d〗_2),\n",
      "\n",
      "p≈Ke^(-r(T-t) )∅(-d_2 )-S_t e^(b_A-r)(T-t) ∅(-d_1 ),\n",
      "\n",
      "Con d_1 y d_2 dados por:\n",
      "\n",
      "d_1=(ln⁡(S_t/K)+(b_A+1/(2σ_a^2 )) (T-t))/(σ√T-t),\n",
      "\n",
      "d_2=d_1-σ_a √T-t.\n",
      "\n",
      "La función ∅(d) es la función de distribución acumulada de E~N(0,1). La volatidad ajustada es igual a:\n",
      "\n",
      "σ_a  (σ )/(√3).\n",
      "\n",
      "Mientras que el costo del acarreo ajustado es:\n",
      "\n",
      "b_a=1/2 (v-(σ^2  )/6).\n"
     ]
    }
   ],
   "source": [
    "print(\"\\033[94m|Kemna y Vorst (1990)|\\033[0m\") \n",
    "print(\"muestran que las opciones asiáticas con media geométrica continua se \")\n",
    "print(\"pueden valuar con el mismo enfoque de las opciones plain vanilla;\")\n",
    "print(\"solo se deben cambiar los parámetros de volatilidad σ por σ_a y el \")\n",
    "print(\"costo de acarreo b por b_A. De acuerdo con Kemna y Vorst, las fórmulas para \")\n",
    "print(\"valuar una opción de compra y una opción de  venta son:\")\n",
    "print(\"\")\n",
    "print(\"c≈S_t e^(b_A-r)(T-t) ∅(d_1 )-Ke^(-r(T-t) )∅〖(d〗_2),\")\n",
    "print(\"\")\n",
    "print(\"p≈Ke^(-r(T-t) )∅(-d_2 )-S_t e^(b_A-r)(T-t) ∅(-d_1 ),\")\n",
    "print(\"\")\n",
    "print(\"Con d_1 y d_2 dados por:\")\n",
    "print(\"\")\n",
    "print(\"d_1=(ln⁡(S_t/K)+(b_A+1/(2σ_a^2 )) (T-t))/(σ√T-t),\")\n",
    "print(\"\")\n",
    "print(\"d_2=d_1-σ_a √T-t.\")\n",
    "print(\"\")\n",
    "print(\"La función ∅(d) es la función de distribución acumulada de E~N(0,1). La volatidad ajustada es igual a:\")\n",
    "print(\"\")\n",
    "print(\"σ_a  (σ )/(√3).\")\n",
    "print(\"\")\n",
    "print(\"Mientras que el costo del acarreo ajustado es:\")\n",
    "print(\"\")\n",
    "print(\"b_a=1/2 (v-(σ^2  )/6).\")\n",
    "\n"
   ]
  },
  {
   "cell_type": "code",
   "execution_count": 16,
   "id": "2eeb5117",
   "metadata": {},
   "outputs": [
    {
     "ename": "NameError",
     "evalue": "name 'es_primo' is not defined",
     "output_type": "error",
     "traceback": [
      "\u001b[1;31m---------------------------------------------------------------------------\u001b[0m",
      "\u001b[1;31mNameError\u001b[0m                                 Traceback (most recent call last)",
      "Cell \u001b[1;32mIn[16], line 15\u001b[0m\n\u001b[0;32m     12\u001b[0m         i \u001b[38;5;241m+\u001b[39m\u001b[38;5;241m=\u001b[39m \u001b[38;5;241m6\u001b[39m\n\u001b[0;32m     13\u001b[0m     \u001b[38;5;28;01mreturn\u001b[39;00m \u001b[38;5;28;01mTrue\u001b[39;00m\n\u001b[1;32m---> 15\u001b[0m numprim \u001b[38;5;241m=\u001b[39m [num \u001b[38;5;28;01mfor\u001b[39;00m num \u001b[38;5;129;01min\u001b[39;00m \u001b[38;5;28mrange\u001b[39m(\u001b[38;5;241m101\u001b[39m) \u001b[38;5;28;01mif\u001b[39;00m es_primo(num)]\n\u001b[0;32m     17\u001b[0m \u001b[38;5;28mprint\u001b[39m(\u001b[38;5;124m\"\u001b[39m\u001b[38;5;124mNúmeros primos del 0 al 100:\u001b[39m\u001b[38;5;124m\"\u001b[39m, numprim)\n",
      "Cell \u001b[1;32mIn[16], line 15\u001b[0m, in \u001b[0;36m<listcomp>\u001b[1;34m(.0)\u001b[0m\n\u001b[0;32m     12\u001b[0m         i \u001b[38;5;241m+\u001b[39m\u001b[38;5;241m=\u001b[39m \u001b[38;5;241m6\u001b[39m\n\u001b[0;32m     13\u001b[0m     \u001b[38;5;28;01mreturn\u001b[39;00m \u001b[38;5;28;01mTrue\u001b[39;00m\n\u001b[1;32m---> 15\u001b[0m numprim \u001b[38;5;241m=\u001b[39m [num \u001b[38;5;28;01mfor\u001b[39;00m num \u001b[38;5;129;01min\u001b[39;00m \u001b[38;5;28mrange\u001b[39m(\u001b[38;5;241m101\u001b[39m) \u001b[38;5;28;01mif\u001b[39;00m es_primo(num)]\n\u001b[0;32m     17\u001b[0m \u001b[38;5;28mprint\u001b[39m(\u001b[38;5;124m\"\u001b[39m\u001b[38;5;124mNúmeros primos del 0 al 100:\u001b[39m\u001b[38;5;124m\"\u001b[39m, numprim)\n",
      "\u001b[1;31mNameError\u001b[0m: name 'es_primo' is not defined"
     ]
    }
   ],
   "source": [
    "def is_prime(n):\n",
    "    if n <= 1:\n",
    "        return False\n",
    "    if n <= 3:\n",
    "        return True\n",
    "    if n % 2 == 0 or n % 3 == 0:\n",
    "        return False\n",
    "    i = 5\n",
    "    while i * i <= n:\n",
    "        if n % i == 0 or n % (i + 2) == 0:\n",
    "            return False\n",
    "        i += 6\n",
    "    return True\n",
    "\n",
    "numprim = [num for num in range(101) if es_primo(num)]\n",
    "\n",
    "print(\"Números primos del 0 al 100:\", numprim)"
   ]
  },
  {
   "cell_type": "code",
   "execution_count": null,
   "id": "f439c5c3",
   "metadata": {},
   "outputs": [],
   "source": []
  }
 ],
 "metadata": {
  "kernelspec": {
   "display_name": "Python 3 (ipykernel)",
   "language": "python",
   "name": "python3"
  },
  "language_info": {
   "codemirror_mode": {
    "name": "ipython",
    "version": 3
   },
   "file_extension": ".py",
   "mimetype": "text/x-python",
   "name": "python",
   "nbconvert_exporter": "python",
   "pygments_lexer": "ipython3",
   "version": "3.11.4"
  }
 },
 "nbformat": 4,
 "nbformat_minor": 5
}
